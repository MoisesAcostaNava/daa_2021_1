{
  "nbformat": 4,
  "nbformat_minor": 0,
  "metadata": {
    "colab": {
      "name": "25Noviembre.ipynb",
      "provenance": [],
      "authorship_tag": "ABX9TyNAic4Tr2JmydgZmOW1wY06",
      "include_colab_link": true
    },
    "kernelspec": {
      "name": "python3",
      "display_name": "Python 3"
    }
  },
  "cells": [
    {
      "cell_type": "markdown",
      "metadata": {
        "id": "view-in-github",
        "colab_type": "text"
      },
      "source": [
        "<a href=\"https://colab.research.google.com/github/MoisesAcostaNava/daa_2021_1/blob/master/25Noviembre.ipynb\" target=\"_parent\"><img src=\"https://colab.research.google.com/assets/colab-badge.svg\" alt=\"Open In Colab\"/></a>"
      ]
    },
    {
      "cell_type": "code",
      "metadata": {
        "colab": {
          "base_uri": "https://localhost:8080/"
        },
        "id": "GC62_WFN6bVs",
        "outputId": "8cc193fb-8876-48a5-e840-d8ab15d57912"
      },
      "source": [
        "frase = \"\"\"El lema que anima a la Universidad Nacional, Por mi raza hablará el espíritu, revela la vocación humanística con la que fue concebida. El autor de esta célebre frase, José Vasconcelos, asumió la rectoría en 1920, en una época en que las esperanzas de la Revolución aún estaban vivas,\n",
        " había una gran fé en la Patria y el ánimo redentor se extendía en el ambiente.\"\"\"\n",
        "\n",
        "frase = frase.strip().replace(\",\",\"\").replace(\".\",\"\").lower().split(\" \")\n",
        "print(frase)\n",
        "frecuencias = {}\n",
        "for index in range(len(frase)):\n",
        "    if frase[index] in frecuencias: #'el' in frecuencias\n",
        "        pass\n",
        "    else:\n",
        "        frecuencias[frase[index]] = 1 #frecuencias['el'] = 1 -> {'el':1}\n",
        "    for pivote in range(index +1,len(frase),1):\n",
        "          #print(frase[index],\"comparada contra:\", frase[pivote])\n",
        "          if frase[index] == frase[pivote]:\n",
        "              frecuencias[frase[index]] += 1\n",
        "print(frecuencias)\n"
      ],
      "execution_count": 20,
      "outputs": [
        {
          "output_type": "stream",
          "text": [
            "['el', 'lema', 'que', 'anima', 'a', 'la', 'universidad', 'nacional', 'por', 'mi', 'raza', 'hablará', 'el', 'espíritu', 'revela', 'la', 'vocación', 'humanística', 'con', 'la', 'que', 'fue', 'concebida', 'el', 'autor', 'de', 'esta', 'célebre', 'frase', 'josé', 'vasconcelos', 'asumió', 'la', 'rectoría', 'en', '1920', 'en', 'una', 'época', 'en', 'que', 'las', 'esperanzas', 'de', 'la', 'revolución', 'aún', 'estaban', 'vivas\\n', 'había', 'una', 'gran', 'fé', 'en', 'la', 'patria', 'y', 'el', 'ánimo', 'redentor', 'se', 'extendía', 'en', 'el', 'ambiente']\n",
            "{'el': 11, 'lema': 1, 'que': 4, 'anima': 1, 'a': 1, 'la': 16, 'universidad': 1, 'nacional': 1, 'por': 1, 'mi': 1, 'raza': 1, 'hablará': 1, 'espíritu': 1, 'revela': 1, 'vocación': 1, 'humanística': 1, 'con': 1, 'fue': 1, 'concebida': 1, 'autor': 1, 'de': 2, 'esta': 1, 'célebre': 1, 'frase': 1, 'josé': 1, 'vasconcelos': 1, 'asumió': 1, 'rectoría': 1, 'en': 11, '1920': 1, 'una': 2, 'época': 1, 'las': 1, 'esperanzas': 1, 'revolución': 1, 'aún': 1, 'estaban': 1, 'vivas\\n': 1, 'había': 1, 'gran': 1, 'fé': 1, 'patria': 1, 'y': 1, 'ánimo': 1, 'redentor': 1, 'se': 1, 'extendía': 1, 'ambiente': 1}\n"
          ],
          "name": "stdout"
        }
      ]
    },
    {
      "cell_type": "code",
      "metadata": {
        "colab": {
          "base_uri": "https://localhost:8080/"
        },
        "id": "E9_fQ1em_SLk",
        "outputId": "687bd7f2-60f8-4670-bcbf-8ebae3c528e4"
      },
      "source": [
        "palabra = 'hola'\n",
        "print(hash(palabra))\n",
        "palabra = 'hole'\n",
        "print(hash(palabra))"
      ],
      "execution_count": 23,
      "outputs": [
        {
          "output_type": "stream",
          "text": [
            "5564985460084124340\n",
            "-6129046507782697397\n"
          ],
          "name": "stdout"
        }
      ]
    }
  ]
}