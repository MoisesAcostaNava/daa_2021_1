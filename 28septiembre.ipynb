{
  "nbformat": 4,
  "nbformat_minor": 0,
  "metadata": {
    "colab": {
      "name": "28septiembre.ipynb",
      "provenance": [],
      "authorship_tag": "ABX9TyM3lBbnmVDEZf+rG40ooYML",
      "include_colab_link": true
    },
    "kernelspec": {
      "name": "python3",
      "display_name": "Python 3"
    }
  },
  "cells": [
    {
      "cell_type": "markdown",
      "metadata": {
        "id": "view-in-github",
        "colab_type": "text"
      },
      "source": [
        "<a href=\"https://colab.research.google.com/github/MoisesAcostaNava/daa_2021_1/blob/master/28septiembre.ipynb\" target=\"_parent\"><img src=\"https://colab.research.google.com/assets/colab-badge.svg\" alt=\"Open In Colab\"/></a>"
      ]
    },
    {
      "cell_type": "markdown",
      "metadata": {
        "id": "gmguUueJDVqH"
      },
      "source": [
        "# Sección 1"
      ]
    },
    {
      "cell_type": "markdown",
      "metadata": {
        "id": "N99lx7UKDaI6"
      },
      "source": [
        "En este archivo aprenderemos a programar en Python con la herramienta de Google Colab Research.\n",
        "\n",
        "También aprenderemos a guardar nuestros cambios a nuestro repositorio de github.com"
      ]
    },
    {
      "cell_type": "markdown",
      "metadata": {
        "id": "nKclCf2ADvhQ"
      },
      "source": [
        "## Código de ejemplo\n",
        "\"\"negritas\"\"\n",
        "\n",
        "_italica_\n",
        "\n",
        "`edad = 10\n",
        "print(edad)`"
      ]
    },
    {
      "cell_type": "code",
      "metadata": {
        "id": "JqaFodAuGfob",
        "outputId": "9f101007-8501-41b5-84b4-041b23b45b2b",
        "colab": {
          "base_uri": "https://localhost:8080/",
          "height": 34
        }
      },
      "source": [
        "frutas = []\n",
        "frutas.append('Manzana')\n",
        "frutas.append('Piña')\n",
        "frutas.append('Kiwi')\n",
        "print(frutas)"
      ],
      "execution_count": 1,
      "outputs": [
        {
          "output_type": "stream",
          "text": [
            "['Manzana', 'Piña', 'Kiwi']\n"
          ],
          "name": "stdout"
        }
      ]
    },
    {
      "cell_type": "code",
      "metadata": {
        "id": "6qPe9MFaHrE6"
      },
      "source": [
        "archivo = open('prueba_daa.txt','wt')\n",
        "archivo.write(\"Hola mundo Jupyter\")\n",
        "archivo.close()"
      ],
      "execution_count": 2,
      "outputs": []
    }
  ]
}