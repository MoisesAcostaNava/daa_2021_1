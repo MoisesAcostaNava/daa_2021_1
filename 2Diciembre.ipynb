{
  "nbformat": 4,
  "nbformat_minor": 0,
  "metadata": {
    "colab": {
      "name": "2Diciembre.ipynb",
      "provenance": [],
      "authorship_tag": "ABX9TyPfHhGX1ZOfjTzmBi6XQuLw",
      "include_colab_link": true
    },
    "kernelspec": {
      "name": "python3",
      "display_name": "Python 3"
    }
  },
  "cells": [
    {
      "cell_type": "markdown",
      "metadata": {
        "id": "view-in-github",
        "colab_type": "text"
      },
      "source": [
        "<a href=\"https://colab.research.google.com/github/MoisesAcostaNava/daa_2021_1/blob/master/2Diciembre.ipynb\" target=\"_parent\"><img src=\"https://colab.research.google.com/assets/colab-badge.svg\" alt=\"Open In Colab\"/></a>"
      ]
    },
    {
      "cell_type": "code",
      "metadata": {
        "id": "DcHWk9vvIxBb"
      },
      "source": [
        "def fnRecInfinita():\n",
        "    print(\"Hola\")\n",
        "    fnRecInfinita()"
      ],
      "execution_count": 6,
      "outputs": []
    },
    {
      "cell_type": "code",
      "metadata": {
        "colab": {
          "base_uri": "https://localhost:8080/"
        },
        "id": "SnWlxZIkI177",
        "outputId": "4f00acb1-473f-46e0-fa4e-eac80628df43"
      },
      "source": [
        "def fnRec( x ):\n",
        "    if x == 0:\n",
        "        print(\"Stop\")\n",
        "    else:\n",
        "        print( x )\n",
        "        fnRec( x-1 )\n",
        "def main():\n",
        "    print(\"Inicio del programa\")\n",
        "    fnRec( 5 )\n",
        "    print(\"Fin\")\n",
        "    \n",
        "main()"
      ],
      "execution_count": 4,
      "outputs": [
        {
          "output_type": "stream",
          "text": [
            "Inicio del programa\n",
            "5\n",
            "4\n",
            "3\n",
            "2\n",
            "1\n",
            "Stop\n",
            "Fin\n"
          ],
          "name": "stdout"
        }
      ]
    },
    {
      "cell_type": "code",
      "metadata": {
        "colab": {
          "base_uri": "https://localhost:8080/"
        },
        "id": "oAXM1ajII8bz",
        "outputId": "5e3a9d53-6be2-419e-fb28-a3a4e6c4021f"
      },
      "source": [
        "def printRev (x):\n",
        "  if x > 0:\n",
        "    print (x)\n",
        "    printRev(x-1)\n",
        "\n",
        "printRev(3)"
      ],
      "execution_count": 1,
      "outputs": [
        {
          "output_type": "stream",
          "text": [
            "3\n",
            "2\n",
            "1\n"
          ],
          "name": "stdout"
        }
      ]
    },
    {
      "cell_type": "code",
      "metadata": {
        "colab": {
          "base_uri": "https://localhost:8080/"
        },
        "id": "i1D9yiibJB7a",
        "outputId": "86216166-6a5d-4080-c342-2e16bfaf9c00"
      },
      "source": [
        "def fibonacci(n):\n",
        "  if n == 1 or n == 0:\n",
        "      return n\n",
        "  else:\n",
        "      return(fibonacci(n-1)+fibonacci(n-2))\n",
        "print(fibonacci(8))"
      ],
      "execution_count": 7,
      "outputs": [
        {
          "output_type": "stream",
          "text": [
            "21\n"
          ],
          "name": "stdout"
        }
      ]
    }
  ]
}