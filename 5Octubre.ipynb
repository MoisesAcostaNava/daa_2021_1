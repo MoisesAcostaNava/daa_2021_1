{
  "nbformat": 4,
  "nbformat_minor": 0,
  "metadata": {
    "colab": {
      "name": "5Octubre.ipynb",
      "provenance": [],
      "authorship_tag": "ABX9TyOA71ERfNav0Xp0oADkpUUz",
      "include_colab_link": true
    },
    "kernelspec": {
      "name": "python3",
      "display_name": "Python 3"
    }
  },
  "cells": [
    {
      "cell_type": "markdown",
      "metadata": {
        "id": "view-in-github",
        "colab_type": "text"
      },
      "source": [
        "<a href=\"https://colab.research.google.com/github/MoisesAcostaNava/daa_2021_1/blob/master/5Octubre.ipynb\" target=\"_parent\"><img src=\"https://colab.research.google.com/assets/colab-badge.svg\" alt=\"Open In Colab\"/></a>"
      ]
    },
    {
      "cell_type": "markdown",
      "metadata": {
        "id": "Gf85E6fsABRa"
      },
      "source": [
        "#Estructuras de datos Pila (Stack)\n",
        "- LIFO: Last In First Out\n",
        "- De tipo líneal\n",
        "- Se pueden obtener e ingresar datos desde el tope\n",
        "- Push para agregar\n",
        "- Pop para sacar\n",
        "\n",
        "\n",
        "##Operaciones de las pilas\n",
        "1. is_empty(regresa true o false)\n",
        "2. get_top(regresa el elemento en el tope SIN SACARLO)\n",
        "3. pop(saca el elemento del tope y lo regresa)\n",
        "4. push(mete un elemento en el tope)\n",
        "5. get_length(regresa el número de elementos en la pila)"
      ]
    },
    {
      "cell_type": "code",
      "metadata": {
        "id": "i8ba49tR_W5R"
      },
      "source": [
        "class Stack:\n",
        "  def __init__(self):\n",
        "    self.__datos = []\n",
        "\n",
        "  def is_empty(self):\n",
        "    return len(self.__datos) == 0\n",
        "  \n",
        "  def get_top(self):\n",
        "    return self.__datos[1]\n",
        "\n",
        "  def pop(self):\n",
        "    return self.__datos.pop()\n",
        "\n",
        "  def push(self,valor):\n",
        "    return self.__datos.append(valor)\n",
        "\n",
        "  def get_length(self):\n",
        "    return len(self.__datos)\n",
        "\n",
        "  def to_string(self):\n",
        "    print(\"|----------|\")\n",
        "    for ele in self.__datos[-1::-1]:\n",
        "      print(f\"{ele}\")\n",
        "    print(\"|----------|\")"
      ],
      "execution_count": 11,
      "outputs": []
    },
    {
      "cell_type": "code",
      "metadata": {
        "id": "36B16L3-FSK1",
        "outputId": "90d88297-d20b-4bdd-a5d8-b3608029384f",
        "colab": {
          "base_uri": "https://localhost:8080/",
          "height": 578
        }
      },
      "source": [
        "pila1 = Stack()\n",
        "pila1.push(10)\n",
        "pila1.push(20)\n",
        "pila1.push(1)\n",
        "pila1.push(393)\n",
        "pila1.push(103)\n",
        "pila1.to_string()\n",
        "\n",
        "sacado = pila1.pop()\n",
        "print(sacado)\n",
        "pila1.to_string()\n",
        "\n",
        "pila1.push(444)\n",
        "pila1.push(233)\n",
        "pila1.to_string()\n",
        "\n",
        "print(f\"El elemento en el tope es:{pila1.get_top()}\")\n",
        "pila1.to_string()\n",
        "print(f\"La pila tiene {pila1.get_length()} elementos\")\n",
        "print(f\"¿La pila está vacía?: {pila1.is_empty()}\")"
      ],
      "execution_count": 17,
      "outputs": [
        {
          "output_type": "stream",
          "text": [
            "|----------|\n",
            "103\n",
            "393\n",
            "1\n",
            "20\n",
            "10\n",
            "|----------|\n",
            "103\n",
            "|----------|\n",
            "393\n",
            "1\n",
            "20\n",
            "10\n",
            "|----------|\n",
            "|----------|\n",
            "233\n",
            "444\n",
            "393\n",
            "1\n",
            "20\n",
            "10\n",
            "|----------|\n",
            "El elemento en el tope es:20\n",
            "|----------|\n",
            "233\n",
            "444\n",
            "393\n",
            "1\n",
            "20\n",
            "10\n",
            "|----------|\n",
            "La pila tiene 6 elementos\n",
            "¿La pila está vacía?: False\n"
          ],
          "name": "stdout"
        }
      ]
    },
    {
      "cell_type": "markdown",
      "metadata": {
        "id": "Xly14Q7GKZsT"
      },
      "source": [
        "# Ejemplo de aplicación de pilas\n",
        "\n",
        "x = 4 + 5 + 6 + 3\n",
        "x = 4 + (5 + 6) + 3\n",
        "x = 4 + 5 +6) + 3\n",
        "x = (4 + (5 + 6) + 3)\n",
        "\n",
        "if(a==b) {System.out.println(b}\n",
        "\n",
        "if(a==b) {System.out.println(b}\n",
        "\n",
        "# Reglas\n",
        "### '(' ---> push('@')\n",
        "### ')' ---> pop()\n",
        "\n",
        "Si al final del recorrido la pila está vacía, entonces la cadena es correcta.\n",
        "\n",
        "Si en un pop desencadena en querer un elemento de la pila vacía significa que la cadena no está balanceada.\n",
        "\n"
      ]
    },
    {
      "cell_type": "markdown",
      "metadata": {
        "id": "1HA2nQVANJj1"
      },
      "source": [
        "# Tarea\n",
        "Hacer un programa que valide el balanceo de parentesís(), corchetes cuadrados[] y picoparentesís{} en programas del lenguaje c y Java.\n",
        "\n",
        "Tomando como base el código de la clase."
      ]
    }
  ]
}