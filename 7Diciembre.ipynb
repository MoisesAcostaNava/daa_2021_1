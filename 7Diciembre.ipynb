{
  "nbformat": 4,
  "nbformat_minor": 0,
  "metadata": {
    "colab": {
      "name": "Untitled1.ipynb",
      "provenance": [],
      "authorship_tag": "ABX9TyMy+ok8PeNzF24LOoWQi20K",
      "include_colab_link": true
    },
    "kernelspec": {
      "name": "python3",
      "display_name": "Python 3"
    }
  },
  "cells": [
    {
      "cell_type": "markdown",
      "metadata": {
        "id": "view-in-github",
        "colab_type": "text"
      },
      "source": [
        "<a href=\"https://colab.research.google.com/github/MoisesAcostaNava/daa_2021_1/blob/master/7Diciembre.ipynb\" target=\"_parent\"><img src=\"https://colab.research.google.com/assets/colab-badge.svg\" alt=\"Open In Colab\"/></a>"
      ]
    },
    {
      "cell_type": "code",
      "metadata": {
        "colab": {
          "base_uri": "https://localhost:8080/"
        },
        "id": "5vkar8IqucE1",
        "outputId": "4dd6cc3d-79d9-4f2b-8174-4fba7f19e3e9"
      },
      "source": [
        "def fibonacci( n ):\n",
        "    print(\"Llamada:\",n)\n",
        "    if  n == 1 or n == 0:\n",
        "        return n\n",
        "    else:\n",
        "        return ( fibonacci(n-1) + fibonacci(n-2) )\n",
        "\n",
        "\n",
        "print(fibonacci(7))"
      ],
      "execution_count": 2,
      "outputs": [
        {
          "output_type": "stream",
          "text": [
            "Llamada: 7\n",
            "Llamada: 6\n",
            "Llamada: 5\n",
            "Llamada: 4\n",
            "Llamada: 3\n",
            "Llamada: 2\n",
            "Llamada: 1\n",
            "Llamada: 0\n",
            "Llamada: 1\n",
            "Llamada: 2\n",
            "Llamada: 1\n",
            "Llamada: 0\n",
            "Llamada: 3\n",
            "Llamada: 2\n",
            "Llamada: 1\n",
            "Llamada: 0\n",
            "Llamada: 1\n",
            "Llamada: 4\n",
            "Llamada: 3\n",
            "Llamada: 2\n",
            "Llamada: 1\n",
            "Llamada: 0\n",
            "Llamada: 1\n",
            "Llamada: 2\n",
            "Llamada: 1\n",
            "Llamada: 0\n",
            "Llamada: 5\n",
            "Llamada: 4\n",
            "Llamada: 3\n",
            "Llamada: 2\n",
            "Llamada: 1\n",
            "Llamada: 0\n",
            "Llamada: 1\n",
            "Llamada: 2\n",
            "Llamada: 1\n",
            "Llamada: 0\n",
            "Llamada: 3\n",
            "Llamada: 2\n",
            "Llamada: 1\n",
            "Llamada: 0\n",
            "Llamada: 1\n",
            "13\n"
          ],
          "name": "stdout"
        }
      ]
    }
  ]
}