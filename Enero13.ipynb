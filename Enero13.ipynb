{
  "nbformat": 4,
  "nbformat_minor": 0,
  "metadata": {
    "colab": {
      "name": "Enero13.ipynb",
      "provenance": [],
      "authorship_tag": "ABX9TyPcooMw4utr3e7l2br7IZcp",
      "include_colab_link": true
    },
    "kernelspec": {
      "name": "python3",
      "display_name": "Python 3"
    }
  },
  "cells": [
    {
      "cell_type": "markdown",
      "metadata": {
        "id": "view-in-github",
        "colab_type": "text"
      },
      "source": [
        "<a href=\"https://colab.research.google.com/github/MoisesAcostaNava/daa_2021_1/blob/master/Enero13.ipynb\" target=\"_parent\"><img src=\"https://colab.research.google.com/assets/colab-badge.svg\" alt=\"Open In Colab\"/></a>"
      ]
    },
    {
      "cell_type": "code",
      "metadata": {
        "id": "EfdmKHiVfSKZ"
      },
      "source": [
        "\r\n",
        "class NodoArbol:\r\n",
        "    def __init__(self, dato, hijo_izq=None, hijo_der=None):\r\n",
        "        self.dato = dato\r\n",
        "        self.left = hijo_izq\r\n",
        "        self.right = hijo_der"
      ],
      "execution_count": 1,
      "outputs": []
    },
    {
      "cell_type": "markdown",
      "metadata": {
        "id": "Djmg9kZ9fbvB"
      },
      "source": [
        "\r\n",
        "**Árbol Binario de Búsqueda**\r\n",
        "Los nodos a la izq son menores a la raís y los nodos a la derecha son mayores a la raiz. Pueden ser recorridos en: pre-orden, in-orden y post-orden.\r\n",
        "\r\n",
        "1. Eliminar\r\n",
        "2. Rec_pre\r\n",
        "3. Rec_post\r\n",
        "4. Rec_in\r\n",
        "5. Search"
      ]
    },
    {
      "cell_type": "code",
      "metadata": {
        "id": "8QqnG5ovfY61"
      },
      "source": [
        "\r\n",
        "class BinarySearchTree:\r\n",
        "    def __init__( self ):\r\n",
        "        self.__root =None\r\n",
        "    def insert( self , value ):\r\n",
        "        if self.___root == None:\r\n",
        "            self.__root =NodoArbol(value, None, None)\r\n",
        "        else:\r\n",
        "            #Preguntar si value es menor que root, se ser el caso, insertar a la izqueirda PERO... puede \r\n",
        "            #ser el caso que el subarbol izquierdo ya tenga muchos elementos...\r\n",
        "            \r\n",
        "            self.__insert_nodo__( self.__root , value)\r\n",
        "\r\n",
        "    def __insert_nodo__(self, nodo, value ): \r\n",
        "        if nodo.dato == value:\r\n",
        "            pass\r\n",
        "        elif value < nodo.dato: #True va a a la izq\r\n",
        "            if nodo.left == None: #Si hay espacio en la izq, ahí va\r\n",
        "                nodo.left =NodoArbol( value, None, None) #Insertamos el nodo\r\n",
        "            else:\r\n",
        "                self.__insert_nodo__( nodo.left, value) #buscar en subarbol izq\r\n",
        "        else:\r\n",
        "            if nodo.right == None:\r\n",
        "                nodo.right = NodoArbol(value, None, None)\r\n",
        "            else:\r\n",
        "                self.__insert_nodo__( nodo.right, value) #buscar en subarbol der"
      ],
      "execution_count": null,
      "outputs": []
    },
    {
      "cell_type": "code",
      "metadata": {
        "id": "1VAVJE-wf0k7"
      },
      "source": [
        "bst = BinarySearchTree()\r\n",
        "bst.insert(50)\r\n",
        "bst.insert(30)\r\n",
        "bst.insert(20)\r\n",
        "bst.insert(30) #true o false\r\n"
      ],
      "execution_count": null,
      "outputs": []
    }
  ]
}