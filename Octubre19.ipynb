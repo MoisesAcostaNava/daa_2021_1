{
  "nbformat": 4,
  "nbformat_minor": 0,
  "metadata": {
    "colab": {
      "name": "Octubre19.ipynb",
      "provenance": [],
      "authorship_tag": "ABX9TyOvPVbht6bZ51Fb43TBUkjs",
      "include_colab_link": true
    },
    "kernelspec": {
      "name": "python3",
      "display_name": "Python 3"
    }
  },
  "cells": [
    {
      "cell_type": "markdown",
      "metadata": {
        "id": "view-in-github",
        "colab_type": "text"
      },
      "source": [
        "<a href=\"https://colab.research.google.com/github/MoisesAcostaNava/daa_2021_1/blob/master/Octubre19.ipynb\" target=\"_parent\"><img src=\"https://colab.research.google.com/assets/colab-badge.svg\" alt=\"Open In Colab\"/></a>"
      ]
    },
    {
      "cell_type": "code",
      "metadata": {
        "id": "OLh-7JdvMP5m",
        "outputId": "23c978e2-8fd2-4949-ad2c-04ab70fb7fa2",
        "colab": {
          "base_uri": "https://localhost:8080/",
          "height": 272
        }
      },
      "source": [
        "a2d = [[3,2,1],\n",
        "       [6,4,8],\n",
        "       [7,4,2]]\n",
        "n = 3\n",
        "print(a2d)\n",
        "\n",
        "total = 0 #1\n",
        "print(\"Nivel 1\")\n",
        "for ren in range(n):\n",
        "    sumaRenglon = 0\n",
        "    print(\"Nivel 2\")\n",
        "    for col in range(n):\n",
        "        sumaRenglon += a2d[ren][col]\n",
        "        total += a2d[ren][col]\n",
        "        print(\"Nivel 3\")\n",
        "\n",
        "print(total)"
      ],
      "execution_count": 2,
      "outputs": [
        {
          "output_type": "stream",
          "text": [
            "[[3, 2, 1], [6, 4, 8], [7, 4, 2]]\n",
            "Nivel 1\n",
            "Nivel 2\n",
            "Nivel 3\n",
            "Nivel 3\n",
            "Nivel 3\n",
            "Nivel 2\n",
            "Nivel 3\n",
            "Nivel 3\n",
            "Nivel 3\n",
            "Nivel 2\n",
            "Nivel 3\n",
            "Nivel 3\n",
            "Nivel 3\n",
            "37\n"
          ],
          "name": "stdout"
        }
      ]
    }
  ]
}