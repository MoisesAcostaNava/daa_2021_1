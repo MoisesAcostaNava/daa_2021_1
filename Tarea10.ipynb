{
  "nbformat": 4,
  "nbformat_minor": 0,
  "metadata": {
    "colab": {
      "name": "Tarea10.ipynb",
      "provenance": [],
      "authorship_tag": "ABX9TyOUd7x/cQ3ZIWKYAP6791C5",
      "include_colab_link": true
    },
    "kernelspec": {
      "name": "python3",
      "display_name": "Python 3"
    }
  },
  "cells": [
    {
      "cell_type": "markdown",
      "metadata": {
        "id": "view-in-github",
        "colab_type": "text"
      },
      "source": [
        "<a href=\"https://colab.research.google.com/github/MoisesAcostaNava/daa_2021_1/blob/master/Tarea10.ipynb\" target=\"_parent\"><img src=\"https://colab.research.google.com/assets/colab-badge.svg\" alt=\"Open In Colab\"/></a>"
      ]
    },
    {
      "cell_type": "code",
      "metadata": {
        "colab": {
          "base_uri": "https://localhost:8080/"
        },
        "id": "54vqC8jhHORv",
        "outputId": "6da09196-16f1-4d90-d177-4edffc52d528"
      },
      "source": [
        "class NodoArbol:\r\n",
        "  def __init__(self,value,left=None,rigth=None):\r\n",
        "    self.data=value\r\n",
        "    self.left=left\r\n",
        "    self.rigth=rigth\r\n",
        "    self.ban=0\r\n",
        "\r\n",
        "def recorrido(arb):\r\n",
        "    mov=[]\r\n",
        "    bandera=0\r\n",
        "    lis1=[]#Nodos hoja\r\n",
        "    lis2=[]#niveles\r\n",
        "    \r\n",
        "    while bandera==0:\r\n",
        "        bandera2=0\r\n",
        "        aux=arb\r\n",
        "        for i in mov:\r\n",
        "            if i==\"L\":\r\n",
        "                aux=aux.left\r\n",
        "            if i==\"R\":\r\n",
        "                aux=aux.rigth\r\n",
        "        if len(mov)==0 and arb.left.ban==1 and arb.rigth.ban==1:\r\n",
        "            bandera=1\r\n",
        "        if len(mov)==0 and arb.left==None and arb.rigth==None:\r\n",
        "            bandera=1\r\n",
        "        if aux.left!= None and aux.left.ban==0 and bandera2==0:\r\n",
        "            aux=aux.left\r\n",
        "            aux.ban=1\r\n",
        "            mov.append(\"L\")\r\n",
        "            bandera2=1\r\n",
        "        if aux.rigth!=None and aux.rigth.ban==0 and bandera2==0:\r\n",
        "            aux=aux.rigth\r\n",
        "            aux.ban=1\r\n",
        "            mov.append(\"R\")\r\n",
        "            bandera2=1\r\n",
        "        if aux.rigth==None and aux.left==None:\r\n",
        "            lis1.append(aux.data)\r\n",
        "            lis2.append(len(mov))\r\n",
        "            mov.pop()\r\n",
        "        if aux.left!=None and aux.rigth!=None and aux!=arb:\r\n",
        "            if aux.left.ban==1 and aux.rigth.ban==1:\r\n",
        "                mov.pop()\r\n",
        "        if aux.rigth!=None:        \r\n",
        "            if aux.left==None and aux.rigth.ban==1:\r\n",
        "                mov.pop()\r\n",
        "        if aux.left!=None:\r\n",
        "            if aux.left.ban==1 and aux.rigth==None:\r\n",
        "                mov.pop()\r\n",
        "    for i in range(len(lis2)-1):\r\n",
        "      for j in range(i):\r\n",
        "        if lis2[j]>lis2[j+1]:\r\n",
        "          aux=lis1[j]\r\n",
        "          lis1[j]=lis1[j+1]\r\n",
        "          lis1[j+1]=aux\r\n",
        "          aux2=lis2[j]\r\n",
        "          lis2[j]=lis2[j+1]\r\n",
        "          lis2[j+1]=aux2\r\n",
        "    print(\"----------------------------------------------------------------\")\r\n",
        "    for i in range(len(lis2)):\r\n",
        "      if lis2[i]==lis2[len(lis2)-1]:\r\n",
        "        print(\"Nodo\",lis1[i],\"en el nivel\",lis2[i])\r\n",
        "    print(\"----------------------------------------------------------------\")  \r\n",
        "\r\n",
        "def main():\r\n",
        "    A=NodoArbol(\"Lizeth\",NodoArbol(\"Diego\",NodoArbol(\"Orlando\"),NodoArbol(\"Andrea\",NodoArbol(\"Cesar\"),NodoArbol(\"Marlon\"))),NodoArbol(\"Pedro\",None,NodoArbol(\"Elias\",NodoArbol(\"José\"))))\r\n",
        "    B=NodoArbol(\"1\",NodoArbol(\"3\",NodoArbol(\"5\",NodoArbol(None,NodoArbol(\"7\"))),NodoArbol(\"9\")),NodoArbol(\"11\",NodoArbol(\"13\",NodoArbol(None,NodoArbol(\"15\"))),NodoArbol(\"17\",NodoArbol(\"19\"),NodoArbol(\"21\"))))\r\n",
        "    C=NodoArbol(\"Z\",NodoArbol(\"X\",NodoArbol(\"Y\"),NodoArbol(\"W\")),NodoArbol(\"S\",NodoArbol(\"T\")))\r\n",
        "    D=NodoArbol(\"30\",NodoArbol(\"50\",NodoArbol(\"70\"),NodoArbol(\"90\")),NodoArbol(\"110\",NodoArbol(\"130\"),NodoArbol(\"150\")))\r\n",
        "    recorrido(A)\r\n",
        "    recorrido(B)\r\n",
        "    recorrido(C)\r\n",
        "    recorrido(D)\r\n",
        "main()\r\n",
        "\r\n"
      ],
      "execution_count": 1,
      "outputs": [
        {
          "output_type": "stream",
          "text": [
            "----------------------------------------------------------------\n",
            "Nodo Cesar en el nivel 3\n",
            "Nodo Marlon en el nivel 3\n",
            "Nodo José en el nivel 3\n",
            "----------------------------------------------------------------\n",
            "----------------------------------------------------------------\n",
            "Nodo 19 en el nivel 3\n",
            "Nodo 21 en el nivel 3\n",
            "----------------------------------------------------------------\n",
            "----------------------------------------------------------------\n",
            "Nodo Y en el nivel 2\n",
            "Nodo W en el nivel 2\n",
            "Nodo T en el nivel 2\n",
            "----------------------------------------------------------------\n",
            "----------------------------------------------------------------\n",
            "Nodo 70 en el nivel 2\n",
            "Nodo 90 en el nivel 2\n",
            "Nodo 130 en el nivel 2\n",
            "Nodo 150 en el nivel 2\n",
            "----------------------------------------------------------------\n"
          ],
          "name": "stdout"
        }
      ]
    }
  ]
}