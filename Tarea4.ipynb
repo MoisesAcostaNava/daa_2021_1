{
  "nbformat": 4,
  "nbformat_minor": 0,
  "metadata": {
    "colab": {
      "name": "Tarea4.ipynb",
      "provenance": [],
      "authorship_tag": "ABX9TyMNW95vp4HmQmkIs2iZKHws",
      "include_colab_link": true
    },
    "kernelspec": {
      "name": "python3",
      "display_name": "Python 3"
    }
  },
  "cells": [
    {
      "cell_type": "markdown",
      "metadata": {
        "id": "view-in-github",
        "colab_type": "text"
      },
      "source": [
        "<a href=\"https://colab.research.google.com/github/MoisesAcostaNava/daa_2021_1/blob/master/Tarea4.ipynb\" target=\"_parent\"><img src=\"https://colab.research.google.com/assets/colab-badge.svg\" alt=\"Open In Colab\"/></a>"
      ]
    },
    {
      "cell_type": "code",
      "metadata": {
        "id": "bDamfa9plDkd"
      },
      "source": [
        "def ejemplo4(n):\n",
        "    count = 0\n",
        "    print(\"Nivel 1\")\n",
        "    i = n\n",
        "    while i >= 1:\n",
        "        print(\"Nivel 2\")\n",
        "        count += 1\n",
        "        i = i // 2\n",
        "    basura = 3 + 2\n",
        "    return count"
      ],
      "execution_count": 4,
      "outputs": []
    }
  ]
}