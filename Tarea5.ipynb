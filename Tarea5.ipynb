{
  "nbformat": 4,
  "nbformat_minor": 0,
  "metadata": {
    "colab": {
      "name": "21Octubre.ipynb",
      "provenance": [],
      "authorship_tag": "ABX9TyPoe0pWQHWE3qCw9hYzmAQc",
      "include_colab_link": true
    },
    "kernelspec": {
      "name": "python3",
      "display_name": "Python 3"
    }
  },
  "cells": [
    {
      "cell_type": "markdown",
      "metadata": {
        "id": "view-in-github",
        "colab_type": "text"
      },
      "source": [
        "<a href=\"https://colab.research.google.com/github/MoisesAcostaNava/daa_2021_1/blob/master/Tarea5.ipynb\" target=\"_parent\"><img src=\"https://colab.research.google.com/assets/colab-badge.svg\" alt=\"Open In Colab\"/></a>"
      ]
    },
    {
      "cell_type": "code",
      "metadata": {
        "id": "EglogdBca8dA",
        "outputId": "aca179e0-478a-40dd-d5b1-a64093b804f6",
        "colab": {
          "base_uri": "https://localhost:8080/",
          "height": 357
        }
      },
      "source": [
        "from time import time\n",
        "def ejemplo1( n ):\n",
        "    start_time = time()\n",
        "    c = n + 1\n",
        "    d = c * n\n",
        "    e = n * n\n",
        "    total = c + e - d\n",
        "    print(f\"total={ total }\")\n",
        "    elapsed_time = time() - start_time\n",
        "    print(\"Tiempo transcurrido: %0.10f segundos.\" % elapsed_time)\n",
        "for entrada in range(100,1100,100):\n",
        "    ejemplo1( entrada )"
      ],
      "execution_count": 17,
      "outputs": [
        {
          "output_type": "stream",
          "text": [
            "total=1\n",
            "Tiempo transcurrido: 0.0036170483 segundos.\n",
            "total=1\n",
            "Tiempo transcurrido: 0.0006258488 segundos.\n",
            "total=1\n",
            "Tiempo transcurrido: 0.0002741814 segundos.\n",
            "total=1\n",
            "Tiempo transcurrido: 0.0005729198 segundos.\n",
            "total=1\n",
            "Tiempo transcurrido: 0.0000357628 segundos.\n",
            "total=1\n",
            "Tiempo transcurrido: 0.0000324249 segundos.\n",
            "total=1\n",
            "Tiempo transcurrido: 0.0000329018 segundos.\n",
            "total=1\n",
            "Tiempo transcurrido: 0.0000309944 segundos.\n",
            "total=1\n",
            "Tiempo transcurrido: 0.0002706051 segundos.\n",
            "total=1\n",
            "Tiempo transcurrido: 0.0000255108 segundos.\n"
          ],
          "name": "stdout"
        }
      ]
    },
    {
      "cell_type": "code",
      "metadata": {
        "id": "6_pmmoRBa5GV",
        "outputId": "6de68656-1b54-47cc-fe92-5fea9fe163a3",
        "colab": {
          "base_uri": "https://localhost:8080/",
          "height": 187
        }
      },
      "source": [
        "from time import time\n",
        "def ejemplo2( n ):\n",
        "    start_time = time()\n",
        "    contador = 0\n",
        "    for i in range( n ) :\n",
        "        for j in range( n ) :\n",
        "            contador += 1\n",
        "    elapsed_time = time() - start_time\n",
        "    print(\"Tiempo transcurrido: %0.10f segundos.\" % elapsed_time)\n",
        "    return contador\n",
        "for entrada in range(100,1100,100):\n",
        "    ejemplo2( entrada )"
      ],
      "execution_count": 15,
      "outputs": [
        {
          "output_type": "stream",
          "text": [
            "Tiempo transcurrido: 0.0004065037 segundos.\n",
            "Tiempo transcurrido: 0.0017209053 segundos.\n",
            "Tiempo transcurrido: 0.0037174225 segundos.\n",
            "Tiempo transcurrido: 0.0071494579 segundos.\n",
            "Tiempo transcurrido: 0.0118899345 segundos.\n",
            "Tiempo transcurrido: 0.0203011036 segundos.\n",
            "Tiempo transcurrido: 0.0279612541 segundos.\n",
            "Tiempo transcurrido: 0.0310931206 segundos.\n",
            "Tiempo transcurrido: 0.0401408672 segundos.\n",
            "Tiempo transcurrido: 0.0514154434 segundos.\n"
          ],
          "name": "stdout"
        }
      ]
    },
    {
      "cell_type": "code",
      "metadata": {
        "id": "-nEZnmB1fADm",
        "outputId": "04ce89fb-330c-4f2d-c703-3bfa7ec2444c",
        "colab": {
          "base_uri": "https://localhost:8080/",
          "height": 187
        }
      },
      "source": [
        "from time import time\n",
        "def ejemplo3( n ): # n=4\n",
        "    start_time = time()\n",
        "    x = n * 2 # x = 8\n",
        "    y = 0   # y = 0\n",
        "    for m in range( 100 ): #3\n",
        "        y = x - n   # y = 4\n",
        "    elapsed_time = time() - start_time\n",
        "    print(\"Tiempo transcurrido: %0.10f segundos.\" % elapsed_time)\n",
        "    return y\n",
        "for entrada in range(100,1100,100):\n",
        "    ejemplo3( entrada )"
      ],
      "execution_count": 4,
      "outputs": [
        {
          "output_type": "stream",
          "text": [
            "Tiempo transcurrido: 0.0000071526 segundos.\n",
            "Tiempo transcurrido: 0.0000090599 segundos.\n",
            "Tiempo transcurrido: 0.0000090599 segundos.\n",
            "Tiempo transcurrido: 0.0000083447 segundos.\n",
            "Tiempo transcurrido: 0.0000083447 segundos.\n",
            "Tiempo transcurrido: 0.0000081062 segundos.\n",
            "Tiempo transcurrido: 0.0000088215 segundos.\n",
            "Tiempo transcurrido: 0.0000085831 segundos.\n",
            "Tiempo transcurrido: 0.0000090599 segundos.\n",
            "Tiempo transcurrido: 0.0000083447 segundos.\n"
          ],
          "name": "stdout"
        }
      ]
    },
    {
      "cell_type": "code",
      "metadata": {
        "id": "l59HGc3wf0UN",
        "outputId": "1b392868-4137-47eb-8de9-b1007980cce1",
        "colab": {
          "base_uri": "https://localhost:8080/",
          "height": 187
        }
      },
      "source": [
        "from time import time\n",
        "def ejemplo4( n ):\n",
        "    start_time = time()\n",
        "    x = 3 * 3.1416 + n\n",
        "    y = x + 3 * 3 - n\n",
        "    z = x + y\n",
        "    elapsed_time = time() - start_time\n",
        "    print(\"Tiempo transcurrido: %0.10f segundos.\" % elapsed_time)\n",
        "    return z\n",
        "for entrada in range(100,1100,100):\n",
        "    ejemplo4( entrada )"
      ],
      "execution_count": 3,
      "outputs": [
        {
          "output_type": "stream",
          "text": [
            "Tiempo transcurrido: 0.0000016689 segundos.\n",
            "Tiempo transcurrido: 0.0000011921 segundos.\n",
            "Tiempo transcurrido: 0.0000011921 segundos.\n",
            "Tiempo transcurrido: 0.0000011921 segundos.\n",
            "Tiempo transcurrido: 0.0000011921 segundos.\n",
            "Tiempo transcurrido: 0.0000011921 segundos.\n",
            "Tiempo transcurrido: 0.0000009537 segundos.\n",
            "Tiempo transcurrido: 0.0000011921 segundos.\n",
            "Tiempo transcurrido: 0.0000009537 segundos.\n",
            "Tiempo transcurrido: 0.0000009537 segundos.\n"
          ],
          "name": "stdout"
        }
      ]
    },
    {
      "cell_type": "code",
      "metadata": {
        "id": "DxW2N3bFf407",
        "outputId": "4bb980fe-51bc-414b-a848-c9b8d719db8a",
        "colab": {
          "base_uri": "https://localhost:8080/",
          "height": 187
        }
      },
      "source": [
        "from time import time\n",
        "def ejemplo5( x ):\n",
        "    start_time = time()\n",
        "    n = 10\n",
        "    for j in range( 0 , x , 1 ):\n",
        "        n = j + n\n",
        "    elapsed_time = time() - start_time\n",
        "    print(\"Tiempo transcurrido: %0.10f segundos.\" % elapsed_time)\n",
        "    return n\n",
        "for entrada in range(100,1100,100):\n",
        "    ejemplo5( entrada )"
      ],
      "execution_count": 1,
      "outputs": [
        {
          "output_type": "stream",
          "text": [
            "Tiempo transcurrido: 0.0000054836 segundos.\n",
            "Tiempo transcurrido: 0.0000147820 segundos.\n",
            "Tiempo transcurrido: 0.0000240803 segundos.\n",
            "Tiempo transcurrido: 0.0000412464 segundos.\n",
            "Tiempo transcurrido: 0.0000569820 segundos.\n",
            "Tiempo transcurrido: 0.0001239777 segundos.\n",
            "Tiempo transcurrido: 0.0000555515 segundos.\n",
            "Tiempo transcurrido: 0.0000600815 segundos.\n",
            "Tiempo transcurrido: 0.0001130104 segundos.\n",
            "Tiempo transcurrido: 0.0001015663 segundos.\n"
          ],
          "name": "stdout"
        }
      ]
    },
    {
      "cell_type": "code",
      "metadata": {
        "id": "j8WFxq5CnrvQ",
        "outputId": "b06a5594-894d-41d8-9017-ad64ed7e0a6c",
        "colab": {
          "base_uri": "https://localhost:8080/",
          "height": 187
        }
      },
      "source": [
        "from time import time\n",
        "def ejemplo6( n ):\n",
        "    start_time = time()\n",
        "    data=[[[1 for x in range(n)] for x in range(n)] \n",
        "          for x in range(n)]\n",
        "    suma = 0\n",
        "    for d in range(n):\n",
        "        for r in range(n):\n",
        "            for c in range(n):\n",
        "                suma += data[d][r][c]\n",
        "    elapsed_time = time() - start_time\n",
        "    print(\"Tiempo transcurrido: %0.10f segundos.\" % elapsed_time)\n",
        "    return suma\n",
        "for entrada in range(100,1100,100):\n",
        "    ejemplo6( entrada )"
      ],
      "execution_count": 18,
      "outputs": [
        {
          "output_type": "stream",
          "text": [
            "Tiempo transcurrido: 0.1276390553 segundos.\n",
            "Tiempo transcurrido: 0.9559626579 segundos.\n",
            "Tiempo transcurrido: 3.5091009140 segundos.\n",
            "Tiempo transcurrido: 8.8580141068 segundos.\n",
            "Tiempo transcurrido: 16.5486750603 segundos.\n",
            "Tiempo transcurrido: 30.3474349976 segundos.\n",
            "Tiempo transcurrido: 49.4164502621 segundos.\n",
            "Tiempo transcurrido: 74.6199777126 segundos.\n",
            "Tiempo transcurrido: 107.1291224957 segundos.\n",
            "Tiempo transcurrido: 148.1470596790 segundos.\n"
          ],
          "name": "stdout"
        }
      ]
    }
  ]
}