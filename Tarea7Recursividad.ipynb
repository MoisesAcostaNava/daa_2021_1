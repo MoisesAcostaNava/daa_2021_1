{
  "nbformat": 4,
  "nbformat_minor": 0,
  "metadata": {
    "colab": {
      "name": "Tarea7Recursividad.ipynb",
      "provenance": [],
      "authorship_tag": "ABX9TyOQI84ZvAhw40comPVoeQ3a",
      "include_colab_link": true
    },
    "kernelspec": {
      "name": "python3",
      "display_name": "Python 3"
    }
  },
  "cells": [
    {
      "cell_type": "markdown",
      "metadata": {
        "id": "view-in-github",
        "colab_type": "text"
      },
      "source": [
        "<a href=\"https://colab.research.google.com/github/MoisesAcostaNava/daa_2021_1/blob/master/Tarea7Recursividad.ipynb\" target=\"_parent\"><img src=\"https://colab.research.google.com/assets/colab-badge.svg\" alt=\"Open In Colab\"/></a>"
      ]
    },
    {
      "cell_type": "code",
      "metadata": {
        "colab": {
          "base_uri": "https://localhost:8080/"
        },
        "id": "Yd_cd-C5YNRS",
        "outputId": "4e95018e-9b4c-44ee-e771-ad2b30e075ca"
      },
      "source": [
        "def suma(x,i,s):\n",
        "    if i<len(x):\n",
        "        s=s+x[i]\n",
        "        suma(x,i+1,s)\n",
        "    if i==len(x)-1:\n",
        "        print(s)\n",
        "x=[3,9,12,15,18,21,24,27,30]\n",
        "suma(x,0,0)"
      ],
      "execution_count": 2,
      "outputs": [
        {
          "output_type": "stream",
          "text": [
            "159\n"
          ],
          "name": "stdout"
        }
      ]
    },
    {
      "cell_type": "code",
      "metadata": {
        "colab": {
          "base_uri": "https://localhost:8080/"
        },
        "id": "o6wCbfBbYpan",
        "outputId": "50789b7f-2b40-41a9-db7a-7a29ec72a775"
      },
      "source": [
        "def cont( i ):\n",
        "    if i > 0:\n",
        "        print(i)\n",
        "        cont(i - 1)\n",
        "cont( 10 )"
      ],
      "execution_count": 4,
      "outputs": [
        {
          "output_type": "stream",
          "text": [
            "10\n",
            "9\n",
            "8\n",
            "7\n",
            "6\n",
            "5\n",
            "4\n",
            "3\n",
            "2\n",
            "1\n"
          ],
          "name": "stdout"
        }
      ]
    },
    {
      "cell_type": "code",
      "metadata": {
        "colab": {
          "base_uri": "https://localhost:8080/"
        },
        "id": "OlY-Ot6dY32L",
        "outputId": "0e37b050-d290-4356-9cd3-6829d7a22deb"
      },
      "source": [
        "class Stack:\n",
        "  def __init__(self):\n",
        "    self.__datos=[]\n",
        "\n",
        "  def is_empty(self):\n",
        "    return len(self.__datos)==0\n",
        "\n",
        "  def get_top(self):\n",
        "    return self.__datos[-1]\n",
        "\n",
        "  def pop(self):\n",
        "    return self.__datos.pop()\n",
        "\n",
        "  def push(self,valor):\n",
        "    self.__datos.append(valor)\n",
        "\n",
        "  def get_length(self):\n",
        "    return len(self.__datos)\n",
        "\n",
        "  def to_string(self):\n",
        "    print(\"***\")\n",
        "    for i in self.__datos[-1::-1]:\n",
        "      print(i)\n",
        "    print(\"***\")\n",
        "    print()\n",
        "\n",
        "def medio(pila,m,x,i):\n",
        "    bandera=0\n",
        "    if m>i:\n",
        "        x=pila.pop()\n",
        "        i+=1\n",
        "        medio(pila,m,x,i)\n",
        "    if m==i:\n",
        "        pila.pop()\n",
        "    pila.push(x)\n",
        "\n",
        "pila=Stack()\n",
        "pila.push(5)\n",
        "pila.push(10)\n",
        "pila.push(15)\n",
        "pila.push(20)\n",
        "pila.push(25)\n",
        "pila.push(30)\n",
        "pila.push(35)\n",
        "pila.push(40)\n",
        "pila.push(45)\n",
        "pila.push(50)\n",
        "m=pila.get_length()//2\n",
        "pila.to_string()\n",
        "medio(pila,m,0,0)\n",
        "pila.to_string()"
      ],
      "execution_count": 5,
      "outputs": [
        {
          "output_type": "stream",
          "text": [
            "***\n",
            "50\n",
            "45\n",
            "40\n",
            "35\n",
            "30\n",
            "25\n",
            "20\n",
            "15\n",
            "10\n",
            "5\n",
            "***\n",
            "\n",
            "***\n",
            "50\n",
            "45\n",
            "40\n",
            "35\n",
            "30\n",
            "20\n",
            "15\n",
            "10\n",
            "5\n",
            "***\n",
            "\n"
          ],
          "name": "stdout"
        }
      ]
    }
  ]
}