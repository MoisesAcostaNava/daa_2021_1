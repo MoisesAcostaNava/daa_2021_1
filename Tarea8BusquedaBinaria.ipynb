{
  "nbformat": 4,
  "nbformat_minor": 0,
  "metadata": {
    "colab": {
      "name": "Untitled2.ipynb",
      "provenance": [],
      "authorship_tag": "ABX9TyPaAd1QMbaR8ngWXEpanA76",
      "include_colab_link": true
    },
    "kernelspec": {
      "name": "python3",
      "display_name": "Python 3"
    }
  },
  "cells": [
    {
      "cell_type": "markdown",
      "metadata": {
        "id": "view-in-github",
        "colab_type": "text"
      },
      "source": [
        "<a href=\"https://colab.research.google.com/github/MoisesAcostaNava/daa_2021_1/blob/master/Tarea8BusquedaBinaria.ipynb\" target=\"_parent\"><img src=\"https://colab.research.google.com/assets/colab-badge.svg\" alt=\"Open In Colab\"/></a>"
      ]
    },
    {
      "cell_type": "code",
      "metadata": {
        "colab": {
          "base_uri": "https://localhost:8080/"
        },
        "id": "s_Jc7czrzc86",
        "outputId": "84b99ae2-8e56-4f48-9090-447bafc49ce5"
      },
      "source": [
        "alumno1={'NC':1, 'nombre':\"Angel\" , 'carrera':\"Ingeniería en computación\", 'promedio':10.00}\r\n",
        "alumno2={'NC':2, 'nombre':\"Carlos\" , 'carrera':\"Ingeniería en computación\", 'promedio':9.67}\r\n",
        "alumno3={'NC':3, 'nombre':\"Alab\" , 'carrera':\"Ingeniería en computación\", 'promedio':6.98}\r\n",
        "alumno4={'NC':4, 'nombre':\"Sam\" , 'carrera':\"Ingeniería en computación\", 'promedio':10.00}\r\n",
        "alumno5={'NC':5, 'nombre':\"Diego\" , 'carrera':\"Ingeniería en computación\", 'promedio':10.00}\r\n",
        "alumno6={'NC':6, 'nombre':\"Yahir\" , 'carrera':\"Ingeniería en computación\", 'promedio':5.37}\r\n",
        "alumno7={'NC':7, 'nombre':\"Brandon\" , 'carrera':\"Ingeniería en computación\", 'promedio':8.85}\r\n",
        "alumno8={'NC':8, 'nombre':\"José\" , 'carrera':\"Ingeniería en computación\", 'promedio':5.99}\r\n",
        "alumno9={'NC':9, 'nombre':\"Cesar\" , 'carrera':\"Ingeniería en computación\", 'promedio':9.22}\r\n",
        "alumno10={'NC':10, 'nombre':\"Mia\" , 'carrera':\"Ingeniería en computación\", 'promedio':7.32}\r\n",
        "\r\n",
        "bd = []\r\n",
        "bd.append(alumno1)\r\n",
        "bd.append(alumno2)\r\n",
        "bd.append(alumno3)\r\n",
        "bd.append(alumno4)\r\n",
        "bd.append(alumno5)\r\n",
        "bd.append(alumno6)\r\n",
        "bd.append(alumno7)\r\n",
        "bd.append(alumno8)\r\n",
        "bd.append(alumno9)\r\n",
        "bd.append(alumno10)\r\n",
        "\r\n",
        "def busrecur(bd,key,i,iz,de):\r\n",
        "    medio=(iz+de)//2\r\n",
        "    if i>=len(bd):\r\n",
        "      print(\"el alumno no exite\")\r\n",
        "      return 0\r\n",
        "    if bd[medio][\"NC\"] == key:\r\n",
        "      print(bd[medio][\"nombre\"],\"estudia la carrera\",bd[medio][\"carrera\"],\"y tiene un promedio de\",bd[medio][\"promedio\"])\r\n",
        "      return 0\r\n",
        "    i=i+1\r\n",
        "    if key > bd[medio][\"NC\"]:\r\n",
        "      busrecur(bd,key,i,medio,de)\r\n",
        "    if key < bd[medio][\"NC\"]:\r\n",
        "      busrecur(bd,key,i,iz,medio)\r\n",
        "#print(bd)\r\n",
        "\r\n",
        "\r\n",
        "\r\n",
        "key=int(input(\"Introduce el número de cuenta del alumno que deseas buscar: \"))\r\n",
        "busrecur(bd,key,0,0,len(bd))"
      ],
      "execution_count": 3,
      "outputs": [
        {
          "output_type": "stream",
          "text": [
            "Introduce el número de cuenta del alumno que deseas buscar: 6\n",
            "Yahir estudia la carrera Ingeniería en computación y tiene un promedio de 5.37\n"
          ],
          "name": "stdout"
        },
        {
          "output_type": "execute_result",
          "data": {
            "text/plain": [
              "0"
            ]
          },
          "metadata": {
            "tags": []
          },
          "execution_count": 3
        }
      ]
    }
  ]
}